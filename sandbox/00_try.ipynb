{
 "cells": [
  {
   "cell_type": "code",
   "execution_count": 94,
   "metadata": {},
   "outputs": [],
   "source": [
    "import pandas as pd\n",
    "import numpy as np\n",
    "import scipy.stats as spstats\n",
    "import sklearn.metrics as sk_metrics\n",
    "import matplotlib.pyplot as plt\n",
    "\n",
    "%matplotlib inline"
   ]
  },
  {
   "cell_type": "code",
   "execution_count": 36,
   "metadata": {},
   "outputs": [
    {
     "data": {
      "text/html": [
       "<div>\n",
       "<table border=\"1\" class=\"dataframe\">\n",
       "  <thead>\n",
       "    <tr style=\"text-align: right;\">\n",
       "      <th></th>\n",
       "      <th>Observed</th>\n",
       "      <th>Simulated</th>\n",
       "    </tr>\n",
       "  </thead>\n",
       "  <tbody>\n",
       "    <tr>\n",
       "      <th>1967-01-01</th>\n",
       "      <td>0.3510</td>\n",
       "      <td>0.224</td>\n",
       "    </tr>\n",
       "    <tr>\n",
       "      <th>1967-01-02</th>\n",
       "      <td>0.3492</td>\n",
       "      <td>0.220</td>\n",
       "    </tr>\n",
       "    <tr>\n",
       "      <th>1967-01-03</th>\n",
       "      <td>0.3492</td>\n",
       "      <td>0.217</td>\n",
       "    </tr>\n",
       "    <tr>\n",
       "      <th>1967-01-04</th>\n",
       "      <td>0.3492</td>\n",
       "      <td>0.214</td>\n",
       "    </tr>\n",
       "    <tr>\n",
       "      <th>1967-01-05</th>\n",
       "      <td>0.3492</td>\n",
       "      <td>0.210</td>\n",
       "    </tr>\n",
       "  </tbody>\n",
       "</table>\n",
       "</div>"
      ],
      "text/plain": [
       "            Observed  Simulated\n",
       "1967-01-01    0.3510      0.224\n",
       "1967-01-02    0.3492      0.220\n",
       "1967-01-03    0.3492      0.217\n",
       "1967-01-04    0.3492      0.214\n",
       "1967-01-05    0.3492      0.210"
      ]
     },
     "execution_count": 36,
     "metadata": {},
     "output_type": "execute_result"
    }
   ],
   "source": [
    "data_df = pd.read_csv('data_swap_nadym.csv', header=0, usecols=['Observed', 'Simulated'], na_values=-999)\n",
    "data_df.index = pd.date_range('1967-01-01', '1991-12-31', freq='D')\n",
    "data_df.head()"
   ]
  },
  {
   "cell_type": "code",
   "execution_count": 37,
   "metadata": {},
   "outputs": [],
   "source": [
    "data_df = data_df.dropna()\n",
    "simulated = data_df.Simulated.values\n",
    "observed  = data_df.Observed.values"
   ]
  },
  {
   "cell_type": "code",
   "execution_count": 38,
   "metadata": {},
   "outputs": [
    {
     "data": {
      "text/plain": [
       "array([ 0.224,  0.22 ,  0.217, ...,  0.164,  0.162,  0.16 ])"
      ]
     },
     "execution_count": 38,
     "metadata": {},
     "output_type": "execute_result"
    }
   ],
   "source": [
    "simulated"
   ]
  },
  {
   "cell_type": "code",
   "execution_count": 39,
   "metadata": {},
   "outputs": [
    {
     "data": {
      "text/plain": [
       "array([ 0.351 ,  0.3492,  0.3492, ...,  0.378 ,  0.378 ,  0.378 ])"
      ]
     },
     "execution_count": 39,
     "metadata": {},
     "output_type": "execute_result"
    }
   ],
   "source": [
    "observed"
   ]
  },
  {
   "cell_type": "markdown",
   "metadata": {},
   "source": [
    "$$NSE = 1-\\frac{\\sum_{i=1}^{N}(obs_{i}-sim_{i})^2}{\\sum_{i=1}^{N}(obs_{i}-\\bar{obs})^2}$$"
   ]
  },
  {
   "cell_type": "code",
   "execution_count": 90,
   "metadata": {},
   "outputs": [],
   "source": [
    "def NS(obs, sim):\n",
    "    \"\"\"\n",
    "    Nash-Sutcliff model efficinecy\n",
    "    \n",
    "        .. math::\n",
    "         NSE = 1-\\frac{\\sum_{i=1}^{N}(obs_{i}-sim_{i})^2}{\\sum_{i=1}^{N}(obs_{i}-\\bar{obs})^2} \n",
    "    \n",
    "    :observaliton: Observed data\n",
    "    :type: numpy array\n",
    "    \n",
    "    :simulation: Simulated data\n",
    "    :type: numpy array\n",
    "    \n",
    "    :return: Nash-Sutcliff model efficiency\n",
    "    :rtype: float\n",
    "    \n",
    "    \"\"\"\n",
    "    numerator = np.sum( (obs - sim)**2 )\n",
    "    \n",
    "    denominator = np.sum( (obs - np.mean(obs))**2 )\n",
    "    \n",
    "    return 1 - numerator / denominator"
   ]
  },
  {
   "cell_type": "code",
   "execution_count": 62,
   "metadata": {},
   "outputs": [
    {
     "data": {
      "text/plain": [
       "0.73982109896950754"
      ]
     },
     "execution_count": 62,
     "metadata": {},
     "output_type": "execute_result"
    }
   ],
   "source": [
    "NS(observed, simulated)"
   ]
  },
  {
   "cell_type": "markdown",
   "metadata": {},
   "source": [
    "$$NSE_{iq} = 1-\\frac{\\sum_{i=1}^{N}( \\frac{1}{obs_{i} + \\varepsilon} - \\frac{1}{sim_{i} + \\varepsilon})^2}{\\sum_{i=1}^{N}(\\frac{1}{obs_{i} + \\varepsilon}-\\bar{\\frac{1}{obs + \\varepsilon}})^2}$$"
   ]
  },
  {
   "cell_type": "code",
   "execution_count": 78,
   "metadata": {},
   "outputs": [],
   "source": [
    "def NSiq(obs, sim):\n",
    "    \"\"\"\n",
    "    Nash-Sutcliff model efficinecy for inverse transformed flows\n",
    "    \n",
    "        .. math::\n",
    "         NSE_{iq} = 1-\\frac{\\sum_{i=1}^{N}( \\frac{1}{obs_{i} + \\varepsilon} - \\frac{1}{sim_{i} + \\varepsilon})^2}{\\sum_{i=1}^{N}(\\frac{1}{obs_{i} + \\varepsilon}-\\bar{\\frac{1}{obs_{i} + \\varepsilon}})^2} \n",
    "    \n",
    "    :observaliton: Observed data\n",
    "    :type: numpy array\n",
    "    \n",
    "    :simulation: Simulated data\n",
    "    :type: numpy array\n",
    "    \n",
    "    :return: Nash-Sutcliff model efficiency for inverse transformed flows\n",
    "    :rtype: float\n",
    "    \n",
    "    \"\"\"\n",
    "    # add small constant for zero values avoiding\n",
    "    obs = obs + 0.01 * obs.mean()\n",
    "    sim = sim + 0.01 * sim.mean()\n",
    "    \n",
    "    # flows inverse transformation\n",
    "    obs_iq = 1 / obs\n",
    "    sim_iq = 1 / sim\n",
    "    \n",
    "    numerator = np.sum( (obs_iq - sim_iq)**2 )\n",
    "    \n",
    "    denominator = np.sum( ( obs_iq - np.mean(obs_iq) )**2 )\n",
    "    \n",
    "    return 1 - numerator / denominator"
   ]
  },
  {
   "cell_type": "code",
   "execution_count": 84,
   "metadata": {},
   "outputs": [
    {
     "data": {
      "text/plain": [
       "-13.085051422272374"
      ]
     },
     "execution_count": 84,
     "metadata": {},
     "output_type": "execute_result"
    }
   ],
   "source": [
    "NSiq(observed, simulated)"
   ]
  },
  {
   "cell_type": "markdown",
   "metadata": {},
   "source": [
    "$$KGE' = 1 - \\sqrt{ (r-1)^{2} + (\\beta-1)^{2} + (\\gamma-1)^{2}}$$\n",
    "\n",
    "$$\\beta = \\frac{\\mu_{sim}}{\\mu_{obs}} $$\n",
    "\n",
    "$$\\gamma = \\frac{ \\sigma_{sim} / \\mu_{sim} }{ \\sigma_{obs} / \\mu_{obs} }$$\n",
    "\n",
    "\n",
    "$\\mu$ - mean runoff;\n",
    "\n",
    "$\\sigma$ - standart deviation;\n",
    "\n",
    "$r$ - correlation coefficient."
   ]
  },
  {
   "cell_type": "code",
   "execution_count": 87,
   "metadata": {},
   "outputs": [],
   "source": [
    "def KGE(obs, sim):\n",
    "    \"\"\"\n",
    "    Modified Kling-Gupta Efficiency\n",
    "    \n",
    "        ..math::\n",
    "            $$KGE' = 1 - \\sqrt{ (r-1)^{2} + (\\beta-1)^{2} + (\\gamma-1)^{2}}$$\n",
    "\n",
    "            $$\\beta = \\frac{\\mu_{sim}}{\\mu_{obs}} $$\n",
    "\n",
    "            $$\\gamma = \\frac{ \\sigma_{sim} / \\mu_{sim} }{ \\sigma_{obs} / \\mu_{obs} }$$\n",
    "\n",
    "\n",
    "            $\\mu$ - mean runoff;\n",
    "\n",
    "            $\\sigma$ - standart deviation;\n",
    "\n",
    "            $r$ - correlation coefficient.\n",
    "    \n",
    "    Article: \n",
    "    Kling, H., Fuchs, M., Paulin, M., 2012. Runoff conditions in the upper Danube basin under an ensemble of climate change scenarios. J. Hydrol. 424–425, 264–277. doi:10.1016/j.jhydrol.2012.01.011\n",
    "    \n",
    "    :observaliton: Observed data\n",
    "    :type: numpy array\n",
    "    \n",
    "    :simulation: Simulated data\n",
    "    :type: numpy array\n",
    "    \n",
    "    :return: Modified Kling-Gupta Efficiency\n",
    "    :rtype: float\n",
    "            \n",
    "    \"\"\"\n",
    "    r     = np.corrcoef(obs, sim)[0,1]\n",
    "    beta  = sim.mean() / obs.mean()\n",
    "    gamma = ( sim.std() / sim.mean() ) / ( obs.std() / obs.mean() )\n",
    "    \n",
    "    kge   = 1 - np.sqrt( (r-1)**2 + (beta-1)**2 + (gamma-1)**2 )\n",
    "        \n",
    "    return kge"
   ]
  },
  {
   "cell_type": "code",
   "execution_count": 88,
   "metadata": {},
   "outputs": [
    {
     "data": {
      "text/plain": [
       "0.84180450325050205"
      ]
     },
     "execution_count": 88,
     "metadata": {},
     "output_type": "execute_result"
    }
   ],
   "source": [
    "KGE(observed, simulated)"
   ]
  },
  {
   "cell_type": "markdown",
   "metadata": {},
   "source": [
    "$$Bias = \\frac{1}{N}\\sum_{i=1}^{N}(obs_{i}-sim_{i})$$"
   ]
  },
  {
   "cell_type": "code",
   "execution_count": 63,
   "metadata": {},
   "outputs": [],
   "source": [
    "def bias(obs, sim):\n",
    "    \"\"\"\n",
    "    Bias\n",
    "    \n",
    "        .. math::\n",
    "          Bias=\\frac{1}{N}\\sum_{i=1}^{N}(obs_{i}-sim_{i})\n",
    "    \n",
    "    :observaliton: Observed data\n",
    "    :type: numpy array\n",
    "    \n",
    "    :simulation: Simulated data\n",
    "    :type: numpy array\n",
    "    \n",
    "    :return: Bias\n",
    "    :rtype: float\n",
    "    \"\"\"\n",
    "    return np.sum(obs - sim) / obs.size"
   ]
  },
  {
   "cell_type": "code",
   "execution_count": 64,
   "metadata": {},
   "outputs": [
    {
     "data": {
      "text/plain": [
       "0.054928191150442479"
      ]
     },
     "execution_count": 64,
     "metadata": {},
     "output_type": "execute_result"
    }
   ],
   "source": [
    "bias(observed, simulated)"
   ]
  },
  {
   "cell_type": "markdown",
   "metadata": {},
   "source": [
    "$$PBias= 100 * \\frac{\\sum_{i=1}^{N}(obs_{i}-sim_{i})}{\\sum_{i=1}^{N}(obs_{i})} \\%$$"
   ]
  },
  {
   "cell_type": "code",
   "execution_count": 65,
   "metadata": {},
   "outputs": [],
   "source": [
    "def pbias(obs, sim):\n",
    "    \"\"\"\n",
    "    Bias percentage\n",
    "    \n",
    "        .. math::\n",
    "          $$PBias= 100 * \\frac{\\sum_{i=1}^{N}(obs_{i}-sim_{i})}{\\sum_{i=1}^{N}(obs_{i})} \\%$$\n",
    "    \n",
    "    :observaliton: Observed data\n",
    "    :type: numpy array\n",
    "    \n",
    "    :simulation: Simulated data\n",
    "    :type: numpy array\n",
    "    \n",
    "    :return: PBias\n",
    "    :rtype: float\n",
    "    \"\"\"\n",
    "    return 100 * ( np.sum(obs - sim) / np.sum(obs) )"
   ]
  },
  {
   "cell_type": "code",
   "execution_count": 66,
   "metadata": {},
   "outputs": [
    {
     "data": {
      "text/plain": [
       "6.5970680273963858"
      ]
     },
     "execution_count": 66,
     "metadata": {},
     "output_type": "execute_result"
    }
   ],
   "source": [
    "pbias(observed, simulated)"
   ]
  },
  {
   "cell_type": "markdown",
   "metadata": {},
   "source": [
    "$$ $$"
   ]
  },
  {
   "cell_type": "code",
   "execution_count": 198,
   "metadata": {},
   "outputs": [],
   "source": [
    "def fdc(series, interval=[0, 1], plot=False):    \n",
    "    \"\"\"\n",
    "    FDC (flow duration curve) coordinates calculation\n",
    "    \n",
    "    source:\n",
    "    http://pubs.usgs.gov/wsp/1542a/report.pdf\n",
    "    \n",
    "    :series: flow series\n",
    "    :type: numpy array\n",
    "    \n",
    "    :interval: probability interval\n",
    "    :type: list with floats - min and max of probability\n",
    "    :default: [0, 1] - whole curve\n",
    "    \n",
    "    :plot: if True - plot simple FDC\n",
    "    :type: boolean\n",
    "    :default: False\n",
    "    \n",
    "    :return: probabilities, ascending sorted series\n",
    "    :rtype: numpy arrays\n",
    "    \"\"\"  \n",
    "    \n",
    "    series = np.sort(series)\n",
    "    \n",
    "    # ranks data from smallest to largest\n",
    "    ranks = spstats.rankdata(series)\n",
    "\n",
    "    # reverses rank order\n",
    "    ranks = ranks[::-1]\n",
    "    \n",
    "    # calculate probability of each rank\n",
    "    prob = np.array([ ( ranks[i] / (len(series)+1) ) for i in range( len(series) ) ])\n",
    "    \n",
    "    mask = (interval[0] < prob) & (prob < interval[1]) \n",
    "    \n",
    "    if plot == True:\n",
    "        plt.plot(prob[mask], series[mask])\n",
    "    \n",
    "    return prob[mask], series[mask]"
   ]
  },
  {
   "cell_type": "code",
   "execution_count": 199,
   "metadata": {},
   "outputs": [
    {
     "data": {
      "text/plain": [
       "(array([  9.99882020e-01,   9.99764040e-01,   9.99646059e-01, ...,\n",
       "          4.12930628e-04,   1.76970269e-04,   1.76970269e-04]),\n",
       " array([  0.12204,   0.12204,   0.12222, ...,  10.71   ,  10.926  ,  12.06   ]))"
      ]
     },
     "execution_count": 199,
     "metadata": {},
     "output_type": "execute_result"
    },
    {
     "data": {
      "image/png": "[encoded data removed]",
      "text/plain": [
       "<matplotlib.figure.Figure at 0x7f1bb53b9550>"
      ]
     },
     "metadata": {},
     "output_type": "display_data"
    }
   ],
   "source": [
    "fdc(observed, plot=True)"
   ]
  },
  {
   "cell_type": "code",
   "execution_count": 202,
   "metadata": {},
   "outputs": [
    {
     "data": {
      "image/png": "[encoded data removed]",
      "text/plain": [
       "<matplotlib.figure.Figure at 0x7f1bb476d320>"
      ]
     },
     "metadata": {},
     "output_type": "display_data"
    }
   ],
   "source": [
    "_, _ = fdc(observed, interval=[0, 0.05], plot=True)"
   ]
  },
  {
   "cell_type": "code",
   "execution_count": 203,
   "metadata": {},
   "outputs": [
    {
     "data": {
      "image/png": "[encoded data removed]",
      "text/plain": [
       "<matplotlib.figure.Figure at 0x7f1bb46cae80>"
      ]
     },
     "metadata": {},
     "output_type": "display_data"
    }
   ],
   "source": [
    "_, _ = fdc(observed, interval=[0.9, 1], plot=True)"
   ]
  },
  {
   "cell_type": "markdown",
   "metadata": {},
   "source": [
    "$$\\Delta FHV = 100 * \\frac{\\sum_{h=1}^{H}(sim_{h}-obs_{h})}{\\sum_{h=1}^{H}(obs_{h})} \\%$$\n",
    "$h = 1, 2, ...H$ - flow indices for flows with exceedance probabilities lower than 0.05"
   ]
  },
  {
   "cell_type": "code",
   "execution_count": 208,
   "metadata": {},
   "outputs": [],
   "source": [
    "def FHV5(obs, sim):\n",
    "    \"\"\"\n",
    "    FHV5 is a bias in FDC high-segment volume (0-5%)\n",
    "    \n",
    "        .. math::\n",
    "          $$\\Delta FHV = 100 * \\frac{\\sum_{h=1}^{H}(sim_{h}-obs_{h})}{\\sum_{h=1}^{H}(obs_{h})} \\%$$\n",
    "          $h = 1, 2, ...H$ - flow indices for flows with exceedance probabilities lower than 0.05\n",
    "    \n",
    "    :observaliton: Observed data\n",
    "    :type: numpy array\n",
    "    \n",
    "    :simulation: Simulated data\n",
    "    :type: numpy array\n",
    "    \n",
    "    :return: FHV5\n",
    "    :rtype: float\n",
    "    \"\"\"\n",
    "    # implement fdc() function for flows slicing from 0-5%\n",
    "    obs_sorted = fdc(obs, interval=[0, 0.05])[1]\n",
    "    sim_sorted = fdc(sim, interval=[0, 0.05])[1]\n",
    "    \n",
    "    # lenght of sorted flow arrays may not match\n",
    "    # we need to cut arrays for minimum length of both\n",
    "    min_lenght = min(obs_sorted.size, sim_sorted.size)\n",
    "    \n",
    "    obs_sorted = obs_sorted[: min_lenght]\n",
    "    sim_sorted = sim_sorted[: min_lenght]\n",
    "    \n",
    "    FHV5 = 100 * ( np.sum( sim_sorted - obs_sorted ) / np.sum(obs_sorted) )\n",
    "    \n",
    "    return FHV5"
   ]
  },
  {
   "cell_type": "code",
   "execution_count": 209,
   "metadata": {},
   "outputs": [
    {
     "data": {
      "text/plain": [
       "-7.8810254323896833"
      ]
     },
     "execution_count": 209,
     "metadata": {},
     "output_type": "execute_result"
    }
   ],
   "source": [
    "FHV5(observed, simulated)"
   ]
  },
  {
   "cell_type": "code",
   "execution_count": 216,
   "metadata": {},
   "outputs": [
    {
     "data": {
      "text/plain": [
       "[<matplotlib.lines.Line2D at 0x7f1bb44a36a0>,\n",
       " <matplotlib.lines.Line2D at 0x7f1bb44a3940>]"
      ]
     },
     "execution_count": 216,
     "metadata": {},
     "output_type": "execute_result"
    },
    {
     "data": {
      "image/png": "[encoded data removed]",
      "text/plain": [
       "<matplotlib.figure.Figure at 0x7f1bb4512390>"
      ]
     },
     "metadata": {},
     "output_type": "display_data"
    }
   ],
   "source": [
    "probao5, observed5 = fdc(observed, interval=[0, 0.05])\n",
    "probas5, simulated5 = fdc(simulated, interval=[0, 0.05])\n",
    "\n",
    "plt.plot(probao5, observed5, 'k.',\n",
    "         probas5, simulated5, 'b-')"
   ]
  },
  {
   "cell_type": "markdown",
   "metadata": {},
   "source": [
    "$$\\Delta FLV = -100 * \\frac{ \\sum_{l=1}^{L}[ log(sim_{l}) - log(sim_{L}) ] - \\sum_{l=1}^{L}[ log(obs_{l}) - log(obs_{L}) ] }{ \\sum_{l=1}^{L}[ log(obs_{l}) - log(obs_{L}) ] } \\%$$\n",
    "\n",
    "$l = 1, 2, ...L$ - index of the flow value located within the low-flow segment (0.7–1.0 flow exceedance probabilities) of the flow duration curve, L being the index of the minimum flow."
   ]
  },
  {
   "cell_type": "code",
   "execution_count": 223,
   "metadata": {},
   "outputs": [],
   "source": [
    "def FLV70(obs, sim):\n",
    "    \"\"\"\n",
    "    FLV70 is a bias in FDC low-segment volume (> 70%)\n",
    "    \n",
    "        .. math::\n",
    "          $$\\Delta FLV = -100 * \\frac{ \\sum_{l=1}^{L}[ log(sim_{l}) - log(sim_{L}) ] - \\sum_{l=1}^{L}[ log(obs_{l}) - log(obs_{L}) ] }{ \\sum_{l=1}^{L}[ log(obs_{l}) - log(obs_{L}) ] } \\%$$\n",
    "\n",
    "          $l = 1, 2, ...L$ - index of the flow value located within the low-flow segment (0.7–1.0 flow exceedance probabilities) of the flow duration curve, L being the index of the minimum flow.\n",
    "    \n",
    "    :observaliton: Observed data\n",
    "    :type: numpy array\n",
    "    \n",
    "    :simulation: Simulated data\n",
    "    :type: numpy array\n",
    "    \n",
    "    :return: FLV70\n",
    "    :rtype: float\n",
    "    \n",
    "    \"\"\"\n",
    "    # implement fdc() function for flows slicing from 70-100%\n",
    "    obs_sorted = fdc(obs, interval=[0.7, 1])[1]\n",
    "    sim_sorted = fdc(sim, interval=[0.7, 1])[1]\n",
    "    \n",
    "    # lenght of sorted flow arrays may not match\n",
    "    # we need to cut arrays for minimum length of both\n",
    "    min_lenght = min(obs_sorted.size, sim_sorted.size)\n",
    "    \n",
    "    obs_sorted = obs_sorted[: min_lenght]\n",
    "    sim_sorted = sim_sorted[: min_lenght]\n",
    "    \n",
    "    # log-transform flow values\n",
    "    obs_log = np.log(obs_sorted)\n",
    "    sim_log = np.log(sim_sorted)\n",
    "    \n",
    "    numerator = np.sum(sim_log - sim_log[0]) - np.sum(obs_log - obs_log[0])\n",
    "    \n",
    "    denominator = np.sum(obs_log - obs_log[0])\n",
    "        \n",
    "    FLV70 = -100 * (numerator / denominator)\n",
    "    \n",
    "    return FLV70\n",
    "\n",
    "def FLV90(obs, sim):\n",
    "    \"\"\"\n",
    "    FLV90 is a bias in FDC low-segment volume (> 90%)\n",
    "    \n",
    "        .. math::\n",
    "          $$\\Delta FLV = -100 * \\frac{ \\sum_{l=1}^{L}[ log(sim_{l}) - log(sim_{L}) ] - \\sum_{l=1}^{L}[ log(obs_{l}) - log(obs_{L}) ] }{ \\sum_{l=1}^{L}[ log(obs_{l}) - log(obs_{L}) ] } \\%$$\n",
    "\n",
    "          $l = 1, 2, ...L$ - index of the flow value located within the low-flow segment (0.7–1.0 flow exceedance probabilities) of the flow duration curve, L being the index of the minimum flow.\n",
    "    \n",
    "    :observaliton: Observed data\n",
    "    :type: numpy array\n",
    "    \n",
    "    :simulation: Simulated data\n",
    "    :type: numpy array\n",
    "    \n",
    "    :return: FLV70\n",
    "    :rtype: float\n",
    "    \n",
    "    \"\"\"\n",
    "    # implement fdc() function for flows slicing from 70-100%\n",
    "    obs_sorted = fdc(obs, interval=[0.9, 1])[1]\n",
    "    sim_sorted = fdc(sim, interval=[0.9, 1])[1]\n",
    "    \n",
    "    # lenght of sorted flow arrays may not match\n",
    "    # we need to cut arrays for minimum length of both\n",
    "    min_lenght = min(obs_sorted.size, sim_sorted.size)\n",
    "    \n",
    "    obs_sorted = obs_sorted[: min_lenght]\n",
    "    sim_sorted = sim_sorted[: min_lenght]\n",
    "    \n",
    "    # log-transform flow values\n",
    "    obs_log = np.log(obs_sorted)\n",
    "    sim_log = np.log(sim_sorted)\n",
    "    \n",
    "    numerator = np.sum(sim_log - sim_log[0]) - np.sum(obs_log - obs_log[0])\n",
    "    \n",
    "    denominator = np.sum(obs_log - obs_log[0])\n",
    "        \n",
    "    FLV90 = -100 * (numerator / denominator)\n",
    "    \n",
    "    return FLV90"
   ]
  },
  {
   "cell_type": "code",
   "execution_count": 221,
   "metadata": {},
   "outputs": [
    {
     "data": {
      "text/plain": [
       "-18.176018709980632"
      ]
     },
     "execution_count": 221,
     "metadata": {},
     "output_type": "execute_result"
    }
   ],
   "source": [
    "FLV70(observed, simulated)"
   ]
  },
  {
   "cell_type": "code",
   "execution_count": 222,
   "metadata": {},
   "outputs": [
    {
     "data": {
      "text/plain": [
       "[<matplotlib.lines.Line2D at 0x7f1bb4356160>,\n",
       " <matplotlib.lines.Line2D at 0x7f1bb4356400>]"
      ]
     },
     "execution_count": 222,
     "metadata": {},
     "output_type": "execute_result"
    },
    {
     "data": {
      "image/png": "[encoded data removed]",
      "text/plain": [
       "<matplotlib.figure.Figure at 0x7f1bb43f2550>"
      ]
     },
     "metadata": {},
     "output_type": "display_data"
    }
   ],
   "source": [
    "probao70, observed70 = fdc(observed, interval=[0.7, 1])\n",
    "probas70, simulated70 = fdc(simulated, interval=[0.7, 1])\n",
    "\n",
    "plt.plot(probao70, observed70, 'k.',\n",
    "         probas70, simulated70, 'b-')"
   ]
  },
  {
   "cell_type": "code",
   "execution_count": 224,
   "metadata": {},
   "outputs": [
    {
     "data": {
      "text/plain": [
       "3.451904073954005"
      ]
     },
     "execution_count": 224,
     "metadata": {},
     "output_type": "execute_result"
    }
   ],
   "source": [
    "FLV90(observed, simulated)"
   ]
  },
  {
   "cell_type": "code",
   "execution_count": 225,
   "metadata": {},
   "outputs": [
    {
     "data": {
      "text/plain": [
       "[<matplotlib.lines.Line2D at 0x7f1bb42c4668>,\n",
       " <matplotlib.lines.Line2D at 0x7f1bb42c4908>]"
      ]
     },
     "execution_count": 225,
     "metadata": {},
     "output_type": "execute_result"
    },
    {
     "data": {
      "image/png": "[encoded data removed]",
      "text/plain": [
       "<matplotlib.figure.Figure at 0x7f1bb44f6828>"
      ]
     },
     "metadata": {},
     "output_type": "display_data"
    }
   ],
   "source": [
    "probao90, observed90 = fdc(observed, interval=[0.9, 1])\n",
    "probas90, simulated90 = fdc(simulated, interval=[0.9, 1])\n",
    "\n",
    "plt.plot(probao90, observed90, 'k.',\n",
    "         probas90, simulated90, 'b-')"
   ]
  },
  {
   "cell_type": "code",
   "execution_count": null,
   "metadata": {},
   "outputs": [],
   "source": []
  }
 ],
 "metadata": {
  "kernelspec": {
   "display_name": "Python [conda root]",
   "language": "python",
   "name": "conda-root-py"
  },
  "language_info": {
   "codemirror_mode": {
    "name": "ipython",
    "version": 3
   },
   "file_extension": ".py",
   "mimetype": "text/x-python",
   "name": "python",
   "nbconvert_exporter": "python",
   "pygments_lexer": "ipython3",
   "version": "3.5.2"
  }
 },
 "nbformat": 4,
 "nbformat_minor": 1
}
